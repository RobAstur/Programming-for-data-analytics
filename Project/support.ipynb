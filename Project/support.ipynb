{
 "cells": [
  {
   "cell_type": "code",
   "execution_count": null,
   "metadata": {
    "vscode": {
     "languageId": "plaintext"
    }
   },
   "outputs": [],
   "source": [
    "homelessness_dec_2021['Date'] = formatted_date_dec_2021\n",
    "homelessness_nov_2021['Date'] = formatted_date_nov_2021\n",
    "homelessness_oct_2021['Date'] = formatted_date_oct_2021\n",
    "homelessness_sep_2021['Date'] = formatted_date_sep_2021\n",
    "homelessness_aug_2021['Date'] = formatted_date_aug_2021\n",
    "homelessness_jul_2021['Date'] = formatted_date_jul_2021\n",
    "homelessness_jun_2021['Date'] = formatted_date_jun_2021\n",
    "homelessness_may_2021['Date'] = formatted_date_may_2021\n",
    "homelessness_apr_2021['Date'] = formatted_date_apr_2021\n",
    "homelessness_mar_2021['Date'] = formatted_date_mar_2021\n",
    "homelessness_feb_2021['Date'] = formatted_date_feb_2021\n",
    "homelessness_jan_2021['Date'] = formatted_date_jan_2021"
   ]
  },
  {
   "cell_type": "code",
   "execution_count": null,
   "metadata": {
    "vscode": {
     "languageId": "plaintext"
    }
   },
   "outputs": [],
   "source": [
    "'''\n",
    "specific_date_dec_2021 = pd.Timestamp('2021-12')\n",
    "formatted_date_dec_2021 = specific_date_dec_2021.strftime('%Y-%m')\n",
    "specific_date_nov_2021 = pd.Timestamp('2021-11')\n",
    "formatted_date_nov_2021 = specific_date_nov_2021.strftime('%Y-%m')\n",
    "specific_date_oct_2021 = pd.Timestamp('2021-10')\n",
    "formatted_date_oct_2021 = specific_date_oct_2021.strftime('%Y-%m')\n",
    "specific_date_sep_2021 = pd.Timestamp('2021-09')\n",
    "formatted_date_sep_2021 = specific_date_sep_2021.strftime('%Y-%m')\n",
    "specific_date_aug_2021 = pd.Timestamp('2021-08')\n",
    "formatted_date_aug_2021 = specific_date_aug_2021.strftime('%Y-%m')\n",
    "specific_date_jul_2021 = pd.Timestamp('2021-07')\n",
    "formatted_date_jul_2021 = specific_date_jul_2021.strftime('%Y-%m')\n",
    "specific_date_jun_2021 = pd.Timestamp('2021-06')\n",
    "formatted_date_jun_2021 = specific_date_jun_2021.strftime('%Y-%m')\n",
    "specific_date_may_2021 = pd.Timestamp('2021-05')\n",
    "formatted_date_may_2021 = specific_date_may_2021.strftime('%Y-%m')\n",
    "specific_date_apr_2021 = pd.Timestamp('2021-04')\n",
    "formatted_date_apr_2021 = specific_date_apr_2021.strftime('%Y-%m')\n",
    "specific_date_mar_2021 = pd.Timestamp('2021-03')\n",
    "formatted_date_mar_2021 = specific_date_mar_2021.strftime('%Y-%m')\n",
    "specific_date_feb_2021 = pd.Timestamp('2021-02')\n",
    "formatted_date_feb_2021 = specific_date_feb_2021.strftime('%Y-%m')\n",
    "specific_date_jan_2021 = pd.Timestamp('2021-01')\n",
    "formatted_date_jan_2021 = specific_date_jan_2021.strftime('%Y-%m')\n"
   ]
  }
 ],
 "metadata": {
  "language_info": {
   "name": "python"
  }
 },
 "nbformat": 4,
 "nbformat_minor": 2
}
