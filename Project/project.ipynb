{
 "cells": [
  {
   "cell_type": "markdown",
   "metadata": {},
   "source": [
    "# Project "
   ]
  },
  {
   "cell_type": "markdown",
   "metadata": {},
   "source": [
    "## Overview"
   ]
  },
  {
   "cell_type": "code",
   "execution_count": 1,
   "metadata": {},
   "outputs": [],
   "source": [
    "import matplotlib.pyplot as plt\n",
    "import pandas as pd\n",
    "import seaborn as sns\n"
   ]
  },
  {
   "cell_type": "markdown",
   "metadata": {},
   "source": [
    "### Price property Index table"
   ]
  },
  {
   "cell_type": "code",
   "execution_count": 2,
   "metadata": {},
   "outputs": [],
   "source": [
    "# create the path to table. Table created using date from https://data.cso.ie/. It has the Residential Property Price Index\n",
    "filepath_price_property_index = r'C:\\Users\\ROB86\\OneDrive\\Desktop\\Price property index.csv'"
   ]
  },
  {
   "cell_type": "code",
   "execution_count": 3,
   "metadata": {},
   "outputs": [],
   "source": [
    "#Open the file. Convert column Month into datetime, add the desired format and sort the values. Remove rows with no Values\n",
    "price_property_index = pd.read_csv(filepath_price_property_index)\n",
    "price_property_index['Month'] = pd.to_datetime(price_property_index['Month'], format='%Y %B')\n",
    "price_property_index['Month'] = price_property_index['Month'].dt.strftime('%Y-%m')\n",
    "price_property_index = price_property_index.dropna(subset=['VALUE'])\n",
    "\n",
    "\n",
    "\n"
   ]
  },
  {
   "cell_type": "code",
   "execution_count": 4,
   "metadata": {},
   "outputs": [
    {
     "data": {
      "text/html": [
       "<div>\n",
       "<style scoped>\n",
       "    .dataframe tbody tr th:only-of-type {\n",
       "        vertical-align: middle;\n",
       "    }\n",
       "\n",
       "    .dataframe tbody tr th {\n",
       "        vertical-align: top;\n",
       "    }\n",
       "\n",
       "    .dataframe thead th {\n",
       "        text-align: right;\n",
       "    }\n",
       "</style>\n",
       "<table border=\"1\" class=\"dataframe\">\n",
       "  <thead>\n",
       "    <tr style=\"text-align: right;\">\n",
       "      <th></th>\n",
       "      <th>Statistic Label</th>\n",
       "      <th>Month</th>\n",
       "      <th>Type of Residential Property</th>\n",
       "      <th>UNIT</th>\n",
       "      <th>VALUE</th>\n",
       "    </tr>\n",
       "  </thead>\n",
       "  <tbody>\n",
       "    <tr>\n",
       "      <th>0</th>\n",
       "      <td>Residential Property Price Index</td>\n",
       "      <td>2005-01</td>\n",
       "      <td>Dublin - all residential properties</td>\n",
       "      <td>Base 2015=100</td>\n",
       "      <td>118.5</td>\n",
       "    </tr>\n",
       "    <tr>\n",
       "      <th>7</th>\n",
       "      <td>Residential Property Price Index</td>\n",
       "      <td>2005-02</td>\n",
       "      <td>Dublin - all residential properties</td>\n",
       "      <td>Base 2015=100</td>\n",
       "      <td>121.0</td>\n",
       "    </tr>\n",
       "    <tr>\n",
       "      <th>14</th>\n",
       "      <td>Residential Property Price Index</td>\n",
       "      <td>2005-03</td>\n",
       "      <td>Dublin - all residential properties</td>\n",
       "      <td>Base 2015=100</td>\n",
       "      <td>121.9</td>\n",
       "    </tr>\n",
       "    <tr>\n",
       "      <th>21</th>\n",
       "      <td>Residential Property Price Index</td>\n",
       "      <td>2005-04</td>\n",
       "      <td>Dublin - all residential properties</td>\n",
       "      <td>Base 2015=100</td>\n",
       "      <td>122.7</td>\n",
       "    </tr>\n",
       "    <tr>\n",
       "      <th>28</th>\n",
       "      <td>Residential Property Price Index</td>\n",
       "      <td>2005-05</td>\n",
       "      <td>Dublin - all residential properties</td>\n",
       "      <td>Base 2015=100</td>\n",
       "      <td>123.7</td>\n",
       "    </tr>\n",
       "  </tbody>\n",
       "</table>\n",
       "</div>"
      ],
      "text/plain": [
       "                     Statistic Label    Month  \\\n",
       "0   Residential Property Price Index  2005-01   \n",
       "7   Residential Property Price Index  2005-02   \n",
       "14  Residential Property Price Index  2005-03   \n",
       "21  Residential Property Price Index  2005-04   \n",
       "28  Residential Property Price Index  2005-05   \n",
       "\n",
       "           Type of Residential Property           UNIT  VALUE  \n",
       "0   Dublin - all residential properties  Base 2015=100  118.5  \n",
       "7   Dublin - all residential properties  Base 2015=100  121.0  \n",
       "14  Dublin - all residential properties  Base 2015=100  121.9  \n",
       "21  Dublin - all residential properties  Base 2015=100  122.7  \n",
       "28  Dublin - all residential properties  Base 2015=100  123.7  "
      ]
     },
     "execution_count": 4,
     "metadata": {},
     "output_type": "execute_result"
    }
   ],
   "source": [
    "price_property_index.head()"
   ]
  },
  {
   "cell_type": "markdown",
   "metadata": {},
   "source": [
    "### 2024 homelessness tables and formats"
   ]
  },
  {
   "cell_type": "code",
   "execution_count": 5,
   "metadata": {},
   "outputs": [],
   "source": [
    "# Monthly homelessness data in ireland by month in 2024\n",
    "homelessness_oct_2024 = pd.read_csv(\"https://opendata.housing.gov.ie/dataset/6b1da9f4-c520-45bd-8070-8777760c5157/resource/7708775a-50d5-4e09-8812-210dfdc8c2b5/download/homelessness-report-october-2024.csv\")\n",
    "homelessness_sep_2024 = pd.read_csv(\"https://opendata.housing.gov.ie/dataset/03489128-448c-47ac-86d2-f9874e380c49/resource/2608bcbd-c024-4ccb-8480-a0a70b78764e/download/homelessness-report-september-2024.csv\")\n",
    "homelessness_aug_2024 = pd.read_csv(\"https://opendata.housing.gov.ie/dataset/23897cc0-bbee-4d3c-8fa0-d1bc9e81b9b3/resource/73792975-ba87-4afc-9820-6d76d9bfa543/download/homelessness-report-august-2024.csv\")\n",
    "homelessness_jul_2024 = pd.read_csv(\"https://opendata.housing.gov.ie/dataset/e38b86a2-968a-41b9-adc4-63ce9b017ad8/resource/2d8746e7-cd60-4e4a-a65f-54965e2a5eb7/download/homelessness-report-july-2024.csv\")\n",
    "homelessness_jun_2024 = pd.read_csv(\"https://opendata.housing.gov.ie/dataset/2681b76e-337e-4edc-a912-8a683d9708e9/resource/225fc1d9-131c-48c1-be3a-934f72f2e9aa/download/homelessness-report-june-2024.csv\")\n",
    "homelessness_may_2024 = pd.read_csv(\"https://opendata.housing.gov.ie/dataset/fd8c95ec-1908-4778-a908-ceda068b72ae/resource/8cdf6fed-ddfc-431a-bd7b-c5be53cac38b/download/homelessness-report-may-2024.csv\")\n",
    "homelessness_apr_2024 = pd.read_csv(\"https://opendata.housing.gov.ie/dataset/d3425423-5f1f-4d8e-81b8-0c42901a7e9a/resource/7f378425-0270-46c4-bf02-052336fd0642/download/homelessness-report-april-2024.csv\")\n",
    "homelessness_mar_2024 = pd.read_csv(\"https://opendata.housing.gov.ie/dataset/9e032d77-9c87-49f5-b676-fe8ce0ee9381/resource/ebad6aec-078e-42aa-b0ac-270449f63cf4/download/homelessness-report-march-2024.csv\")\n",
    "homelessness_feb_2024 = pd.read_csv(\"https://opendata.housing.gov.ie/dataset/83fa5de0-2430-4798-b243-5231dd62d39b/resource/08bc6f3b-c348-4fa4-9313-576fd10338bf/download/homelessness-report-february-2024.csv\")\n",
    "homelessness_jan_2024 = pd.read_csv(\"https://opendata.housing.gov.ie/dataset/681fd35e-6839-462f-9bed-aaf4034d1b30/resource/7537e266-c05e-443f-a8e4-92bd28d99fd6/download/homelessness-report-january-2024.csv\")"
   ]
  },
  {
   "cell_type": "code",
   "execution_count": 6,
   "metadata": {},
   "outputs": [],
   "source": [
    "# Create timestamps and convert them into strings with the desire format\n",
    "specific_date_oct_2024 = pd.Timestamp('2024-10')\n",
    "formatted_date_oct_2024 = specific_date_oct_2024.strftime('%Y-%m')\n",
    "specific_date_sep_2024 = pd.Timestamp('2024-09')\n",
    "formatted_date_sep_2024 = specific_date_sep_2024.strftime('%Y-%m')\n",
    "specific_date_aug_2024 = pd.Timestamp('2024-08')\n",
    "formatted_date_aug_2024 = specific_date_aug_2024.strftime('%Y-%m')\n",
    "specific_date_jul_2024 = pd.Timestamp('2024-07')\n",
    "formatted_date_jul_2024 = specific_date_jul_2024.strftime('%Y-%m')\n",
    "specific_date_jun_2024 = pd.Timestamp('2024-06')\n",
    "formatted_date_jun_2024 = specific_date_jun_2024.strftime('%Y-%m')\n",
    "specific_date_may_2024 = pd.Timestamp('2024-05')\n",
    "formatted_date_may_2024 = specific_date_may_2024.strftime('%Y-%m')\n",
    "specific_date_apr_2024 = pd.Timestamp('2024-04')\n",
    "formatted_date_apr_2024 = specific_date_apr_2024.strftime('%Y-%m')\n",
    "specific_date_mar_2024 = pd.Timestamp('2024-03')\n",
    "formatted_date_mar_2024 = specific_date_mar_2024.strftime('%Y-%m')\n",
    "specific_date_feb_2024 = pd.Timestamp('2024-02')\n",
    "formatted_date_feb_2024 = specific_date_feb_2024.strftime('%Y-%m')\n",
    "specific_date_jan_2024 = pd.Timestamp('2024-01')\n",
    "formatted_date_jan_2024 = specific_date_jan_2024.strftime('%Y-%m')\n"
   ]
  },
  {
   "cell_type": "code",
   "execution_count": 7,
   "metadata": {},
   "outputs": [],
   "source": [
    "# adding a new column Date to the table with the date and desire format\n",
    "homelessness_oct_2024['Date'] = formatted_date_oct_2024\n",
    "homelessness_sep_2024['Date'] = formatted_date_sep_2024\n",
    "homelessness_aug_2024['Date'] = formatted_date_aug_2024\n",
    "homelessness_jul_2024['Date'] = formatted_date_jul_2024\n",
    "homelessness_jun_2024['Date'] = formatted_date_jun_2024\n",
    "homelessness_may_2024['Date'] = formatted_date_may_2024\n",
    "homelessness_apr_2024['Date'] = formatted_date_apr_2024\n",
    "homelessness_mar_2024['Date'] = formatted_date_mar_2024\t\n",
    "homelessness_feb_2024['Date'] = formatted_date_feb_2024\n",
    "homelessness_jan_2024['Date'] = formatted_date_jan_2024"
   ]
  },
  {
   "cell_type": "code",
   "execution_count": 8,
   "metadata": {},
   "outputs": [],
   "source": [
    "# I recomend to download the combined tables to ensure it is correct. It can be done using \n",
    "# combined_2024.to_csv('URL', index=False)\n",
    "#print(\"Table exported as CSV!\")\n",
    "combined_2024 = pd.concat([homelessness_oct_2024,homelessness_sep_2024,homelessness_aug_2024, homelessness_jul_2024,homelessness_jun_2024,homelessness_may_2024,homelessness_apr_2024,homelessness_mar_2024,homelessness_feb_2024,homelessness_jan_2024], ignore_index=True)"
   ]
  },
  {
   "cell_type": "markdown",
   "metadata": {},
   "source": [
    "### 2023 Homelessness tables and figures"
   ]
  },
  {
   "cell_type": "code",
   "execution_count": 9,
   "metadata": {},
   "outputs": [],
   "source": [
    "# Monthly homelessness data in ireland by month in 2023\n",
    "homelessness_dec_2023 = pd.read_csv(\"https://opendata.housing.gov.ie/dataset/5469b7a9-4ff5-4f37-940b-97a1b2602dc4/resource/dfbcf1f2-51f2-438a-8103-15c8ff560c0b/download/homelessness-report-december-2023.csv\")\n",
    "homelessness_nov_2023 = pd.read_csv(\"https://opendata.housing.gov.ie/dataset/43ca160e-a274-4e5c-a66c-cc332f328278/resource/e1e72e13-31d3-4f57-9411-7d1ba2d90da7/download/homelessness-report-november-2023.csv\")\n",
    "homelessness_oct_2023 = pd.read_csv(\"https://opendata.housing.gov.ie/dataset/13991f42-a3ff-4f97-8be6-bb48ca6cd225/resource/c00b9111-b872-4857-a0fc-95a95afcc0c8/download/homelessness-report-october-2023.csv\")\n",
    "homelessness_sep_2023 = pd.read_csv(\"https://opendata.housing.gov.ie/dataset/e1abeff6-eb5f-4c5d-bc70-f480551e525d/resource/7fe1b716-608f-4017-9cb3-7c021088e305/download/homelessness-report-september-2023.csv\")\n",
    "homelessness_aug_2023 = pd.read_csv(\"https://opendata.housing.gov.ie/dataset/ff8ad077-c50b-4b9e-87f8-94c2932d20dd/resource/c8856026-9aad-4dfe-97b7-b2dc51112c82/download/homelessness-report-august-2023.csv\")\n",
    "homelessness_jul_2023 = pd.read_csv(\"https://opendata.housing.gov.ie/dataset/06b69ba1-4864-4ba3-86ae-b8620c63b02c/resource/3ed19306-604f-4af4-8135-97100142602b/download/homelessness-report-july-2023.csv\")\n",
    "homelessness_jun_2023 = pd.read_csv(\"https://opendata.housing.gov.ie/dataset/b0c5f2cb-62e1-4636-8e24-168e15c4cdbb/resource/c1babe56-9d77-4ecc-8fad-b60372601686/download/homelessness-report-june-2023.csv\")\n",
    "homelessness_may_2023 = pd.read_csv(\"https://opendata.housing.gov.ie/dataset/4a67d150-d279-423e-89c8-872e8f23c2ac/resource/5e8c21d9-197f-4cba-9eb8-05cef7760a43/download/homelessness-report-may-2023.csv\") #problems table\n",
    "homelessness_apr_2023 = pd.read_csv(\"https://opendata.housing.gov.ie/dataset/f4e8a00a-41ec-4614-adad-18be7777ddaf/resource/5a2dfe7c-6706-4cb9-9d8c-5d810a8e6e0b/download/homelessness-report-april-2023.csv\") #problems table\n",
    "homelessness_mar_2023 = pd.read_csv(\"https://opendata.housing.gov.ie/dataset/0ddbd2e1-597a-4373-869e-a9a22c44e7d6/resource/c7af788f-6aec-4d69-9188-fd7a6cb1139b/download/homelessness-report-march-2023.csv\") #problems table\n",
    "homelessness_feb_2023 = pd.read_csv(\"https://opendata.housing.gov.ie/dataset/16b4f235-403d-4d7a-8c83-3ae3b25ff276/resource/498fb653-3493-43d8-bd79-74b1d5e4d9b0/download/homelessness-report-february-2023.csv\")\n",
    "homelessness_jan_2023 = pd.read_csv(\"https://opendata.housing.gov.ie/dataset/28045f5f-c36a-44dc-8073-dceda19de92b/resource/7f71a732-4ae2-4d0a-8fd0-97f9480fb19e/download/homelessness-report-january-2023.csv\")"
   ]
  },
  {
   "cell_type": "code",
   "execution_count": 10,
   "metadata": {},
   "outputs": [],
   "source": [
    "specific_date_dec_2023 = pd.Timestamp('2023-12')\n",
    "formatted_date_dec_2023 = specific_date_dec_2023.strftime('%Y-%m')\n",
    "specific_date_nov_2023 = pd.Timestamp('2023-11')\n",
    "formatted_date_nov_2023 = specific_date_nov_2023.strftime('%Y-%m')\n",
    "specific_date_oct_2023 = pd.Timestamp('2023-10')\n",
    "formatted_date_oct_2023 = specific_date_oct_2023.strftime('%Y-%m')\n",
    "specific_date_sep_2023 = pd.Timestamp('2023-09')\n",
    "formatted_date_sep_2023 = specific_date_sep_2023.strftime('%Y-%m')\n",
    "specific_date_aug_2023 = pd.Timestamp('2023-08')\n",
    "formatted_date_aug_2023 = specific_date_aug_2023.strftime('%Y-%m')\n",
    "specific_date_jul_2023 = pd.Timestamp('2023-07')\n",
    "formatted_date_jul_2023 = specific_date_jul_2023.strftime('%Y-%m')\n",
    "specific_date_jun_2023 = pd.Timestamp('2023-06')\n",
    "formatted_date_jun_2023 = specific_date_jun_2023.strftime('%Y-%m')\n",
    "specific_date_may_2023 = pd.Timestamp('2023-05')\n",
    "formatted_date_may_2023 = specific_date_may_2023.strftime('%Y-%m')\n",
    "specific_date_apr_2023 = pd.Timestamp('2023-04')\n",
    "formatted_date_apr_2023 = specific_date_apr_2023.strftime('%Y-%m')\n",
    "specific_date_mar_2023 = pd.Timestamp('2023-03')\n",
    "formatted_date_mar_2023 = specific_date_mar_2023.strftime('%Y-%m')\n",
    "specific_date_feb_2023 = pd.Timestamp('2023-02')\n",
    "formatted_date_feb_2023 = specific_date_feb_2023.strftime('%Y-%m')\n",
    "specific_date_jan_2023 = pd.Timestamp('2023-01')\n",
    "formatted_date_jan_2023 = specific_date_jan_2023.strftime('%Y-%m')"
   ]
  },
  {
   "cell_type": "code",
   "execution_count": 11,
   "metadata": {},
   "outputs": [],
   "source": [
    "homelessness_dec_2023['Date'] = formatted_date_dec_2023\n",
    "homelessness_nov_2023['Date'] = formatted_date_nov_2023\n",
    "homelessness_oct_2023['Date'] = formatted_date_oct_2023\n",
    "homelessness_sep_2023['Date'] = formatted_date_sep_2023\n",
    "homelessness_aug_2023['Date'] = formatted_date_aug_2023\n",
    "homelessness_jul_2023['Date'] = formatted_date_jul_2023\n",
    "homelessness_jun_2023['Date'] = formatted_date_jun_2023\n",
    "homelessness_may_2023['Date'] = formatted_date_may_2023\n",
    "homelessness_apr_2023['Date'] = formatted_date_apr_2023\n",
    "homelessness_mar_2023['Date'] = formatted_date_mar_2023\n",
    "homelessness_feb_2023['Date'] = formatted_date_feb_2023\n",
    "homelessness_jan_2023['Date'] = formatted_date_jan_2023"
   ]
  },
  {
   "cell_type": "markdown",
   "metadata": {},
   "source": [
    "### 2022 Homelessness tables and figures"
   ]
  },
  {
   "cell_type": "code",
   "execution_count": 12,
   "metadata": {},
   "outputs": [],
   "source": [
    "# Monthly homelessness data in ireland by month in 2022\n",
    "homelessness_dec_2022 = pd.read_csv(\"https://opendata.housing.gov.ie/dataset/3a22c2b9-1dc2-489a-9aab-257c408739d5/resource/05b75372-c23f-4e72-a7b6-955cbd6e2fdb/download/homelessness-report-december-2022.csv\")\n",
    "homelessness_nov_2022 = pd.read_csv(\"https://opendata.housing.gov.ie/dataset/0dfa2e1c-24d8-416d-bf4e-0f0d4b4395f8/resource/c00d304b-4c64-48c4-91ce-de85c67a9eaa/download/homelessness-report-november-2022.csv\")\n",
    "homelessness_oct_2022 = pd.read_csv(\"https://opendata.housing.gov.ie/dataset/2be2820c-93f3-46c0-9b5c-ce3313b14eb5/resource/7d748b41-fb59-4fcc-8772-6decd74746aa/download/homelessness-report-october-2022.csv\")\n",
    "homelessness_sep_2022 = pd.read_csv(\"https://opendata.housing.gov.ie/dataset/c571d158-8a50-4b70-a27e-2040cb327356/resource/15bda355-bae7-43cf-bb8b-f8693f94b88b/download/homelessness-report-september-2022.csv\")\n",
    "homelessness_aug_2022 = pd.read_csv(\"https://opendata.housing.gov.ie/dataset/3f18ce34-f322-49fa-9f73-be3958a30da9/resource/e5a9c937-f34c-4c31-8e2e-195b344a4650/download/homelessness-report-august-2022.csv\")\n",
    "homelessness_jul_2022 = pd.read_csv(\"https://opendata.housing.gov.ie/dataset/b3739212-04fd-4d62-a1ca-dd8b350134d8/resource/1e198dc0-d04e-425b-8fb5-9cf9cef2aba9/download/homelessness-report-july-2022.csv\")\n",
    "homelessness_jun_2022 = pd.read_csv(\"https://opendata.housing.gov.ie/dataset/12ce0923-59e0-4ef4-aedd-f974fae8c86e/resource/536373c8-c273-4cb8-8968-3402f1dbad54/download/homelessness-report-june-2022.csv\")\n",
    "homelessness_may_2022 = pd.read_csv(\"https://opendata.housing.gov.ie/dataset/e5040b32-14a7-4df3-9ec2-8e79ef6d4cee/resource/020ffa33-8f97-4089-bf83-24403e4a8c9f/download/homelessness-report-may-2022.csv\") \n",
    "homelessness_apr_2022 = pd.read_csv(\"https://opendata.housing.gov.ie/dataset/e5513446-a44b-4876-a20a-19ae81182308/resource/8ecb0adf-3664-41ff-af36-de2b5447540b/download/homelessness-report-april-2022.csv\") \n",
    "homelessness_mar_2022 = pd.read_csv(\"https://opendata.housing.gov.ie/dataset/9b374d8e-9c4d-4b4c-b901-d6cb8a23b106/resource/6ed10a29-e2bd-490c-9fe5-af235af39375/download/homelessness-report-march-2022.csv\") \n",
    "homelessness_feb_2022 = pd.read_csv(\"https://opendata.housing.gov.ie/dataset/c8f28b50-f1a0-470b-93fa-9415ed5261fb/resource/c7ee432a-a764-4079-9ce7-0a419ef64344/download/homelessness-report-february-2022.csv\")\n",
    "homelessness_jan_2022 = pd.read_csv(\"https://opendata.housing.gov.ie/dataset/8c4fa71a-ecbc-49f7-8d52-ce38d2b5b1a5/resource/37306a63-0032-4825-b46e-c177ada79038/download/homelessness-report-january-2022.csv\")"
   ]
  },
  {
   "cell_type": "code",
   "execution_count": 13,
   "metadata": {},
   "outputs": [],
   "source": [
    "specific_date_dec_2022 = pd.Timestamp('2022-12')\n",
    "formatted_date_dec_2022 = specific_date_dec_2022.strftime('%Y-%m')\n",
    "specific_date_nov_2022 = pd.Timestamp('2022-11')\n",
    "formatted_date_nov_2022 = specific_date_nov_2022.strftime('%Y-%m')\n",
    "specific_date_oct_2022 = pd.Timestamp('2022-10')\n",
    "formatted_date_oct_2022 = specific_date_oct_2022.strftime('%Y-%m')\n",
    "specific_date_sep_2022 = pd.Timestamp('2022-09')\n",
    "formatted_date_sep_2022 = specific_date_sep_2022.strftime('%Y-%m')\n",
    "specific_date_aug_2022 = pd.Timestamp('2022-08')\n",
    "formatted_date_aug_2022 = specific_date_aug_2022.strftime('%Y-%m')\n",
    "specific_date_jul_2022 = pd.Timestamp('2022-07')\n",
    "formatted_date_jul_2022 = specific_date_jul_2022.strftime('%Y-%m')\n",
    "specific_date_jun_2022 = pd.Timestamp('2022-06')\n",
    "formatted_date_jun_2022 = specific_date_jun_2022.strftime('%Y-%m')\n",
    "specific_date_may_2022 = pd.Timestamp('2022-05')\n",
    "formatted_date_may_2022 = specific_date_may_2022.strftime('%Y-%m')\n",
    "specific_date_apr_2022 = pd.Timestamp('2022-04')\n",
    "formatted_date_apr_2022 = specific_date_apr_2022.strftime('%Y-%m')\n",
    "specific_date_mar_2022 = pd.Timestamp('2022-03')\n",
    "formatted_date_mar_2022 = specific_date_mar_2022.strftime('%Y-%m')\n",
    "specific_date_feb_2022 = pd.Timestamp('2022-02')\n",
    "formatted_date_feb_2022 = specific_date_feb_2022.strftime('%Y-%m')\n",
    "specific_date_jan_2022 = pd.Timestamp('2022-01')\n",
    "formatted_date_jan_2022 = specific_date_jan_2022.strftime('%Y-%m')"
   ]
  },
  {
   "cell_type": "code",
   "execution_count": 14,
   "metadata": {},
   "outputs": [],
   "source": [
    "homelessness_dec_2022['Date'] = formatted_date_dec_2022\n",
    "homelessness_nov_2022['Date'] = formatted_date_nov_2022\n",
    "homelessness_oct_2022['Date'] = formatted_date_oct_2022\n",
    "homelessness_sep_2022['Date'] = formatted_date_sep_2022\n",
    "homelessness_aug_2022['Date'] = formatted_date_aug_2022\n",
    "homelessness_jul_2022['Date'] = formatted_date_jul_2022\n",
    "homelessness_jun_2022['Date'] = formatted_date_jun_2022\n",
    "homelessness_may_2022['Date'] = formatted_date_may_2022\n",
    "homelessness_apr_2022['Date'] = formatted_date_apr_2022\n",
    "homelessness_mar_2022['Date'] = formatted_date_mar_2022\n",
    "homelessness_feb_2022['Date'] = formatted_date_feb_2022\n",
    "homelessness_jan_2022['Date'] = formatted_date_jan_2022"
   ]
  },
  {
   "cell_type": "markdown",
   "metadata": {},
   "source": [
    "### 2021 Homelessness tables and figures"
   ]
  },
  {
   "cell_type": "code",
   "execution_count": 15,
   "metadata": {},
   "outputs": [],
   "source": [
    "# Monthly homelessness data in ireland by month in 2021\n",
    "homelessness_dec_2021 = pd.read_csv(\"https://opendata.housing.gov.ie/dataset/6e34346a-f3ce-462a-832d-e27dc352e8c5/resource/7f7e6956-d59a-4020-801d-e25b574eb54e/download/homelessness-report-december-2021.csv\")\n",
    "homelessness_nov_2021 = pd.read_csv(\"https://opendata.housing.gov.ie/dataset/3a0791ff-075b-44f3-9e94-1f11c4994dc0/resource/2a1f9d7d-0821-468e-b751-716446aa7222/download/homelessness_report_november_2021.csv\")\n",
    "homelessness_oct_2021 = pd.read_csv(\"https://opendata.housing.gov.ie/dataset/826bc8aa-5dd0-4213-8b78-f1779d2aefc1/resource/6468cffd-10fa-4587-8849-e27dd689f758/download/homelessness_report_october_2021.csv\")\n",
    "homelessness_sep_2021 = pd.read_csv(\"https://opendata.housing.gov.ie/dataset/843baa44-a21d-4f4d-bc87-f1f3cc6077ac/resource/19fad560-0c39-4013-b96d-59e74e354f6d/download/homelessness_report_september_2021.csv\")\n",
    "homelessness_aug_2021 = pd.read_csv(\"https://opendata.housing.gov.ie/dataset/b5cdc6ca-15f1-46b0-abc2-2a1110826d2c/resource/c97a99bc-df27-4824-838c-acfdf15a6cf5/download/homelessness_report_august_2021.csv\")\n",
    "homelessness_jul_2021 = pd.read_csv(\"https://opendata.housing.gov.ie/dataset/f7f7bd15-b5ce-4e45-a0e7-642951f8a392/resource/5fb1a890-cce9-4437-93ee-cb0719ec438a/download/homelessness-report-july-2021.csv\")\n",
    "homelessness_jun_2021 = pd.read_csv(\"https://opendata.housing.gov.ie/dataset/c9ec3cb6-0831-4c4e-9eb6-883501d97947/resource/45d614d0-c5b7-4582-8588-ae31bdd2e34f/download/homelessness_report_june_2021.csv\")\n",
    "homelessness_may_2021 = pd.read_csv(\"https://opendata.housing.gov.ie/dataset/ba94eeb3-4922-443f-ac53-1c312c4c4a6b/resource/b2af6a35-5d1e-4b1f-97c3-1f9852342153/download/homelessness_report_may_2021.csv\")\n",
    "homelessness_apr_2021 = pd.read_csv(\"https://opendata.housing.gov.ie/dataset/c97fab82-5104-4fc4-8dec-450b0f369190/resource/ea4d2a27-24ab-46ea-8ae4-9156e16cffdc/download/homelessness_report_april_2021.csv\")\n",
    "homelessness_mar_2021 = pd.read_csv(\"https://opendata.housing.gov.ie/dataset/c0adaf28-e456-4712-b7e6-09ec7637800d/resource/37611d48-3026-4c38-a297-5d9eefbd6961/download/homelessness_report_march_2021.csv\")\n",
    "homelessness_feb_2021 = pd.read_csv(\"https://opendata.housing.gov.ie/dataset/282e2ea9-8629-42fb-aa20-f3d415b3d08a/resource/64ece281-412d-4776-9f3f-496f286229f8/download/homelessness_report_february_2021.csv\")\n",
    "homelessness_jan_2021 = pd.read_csv(\"https://opendata.housing.gov.ie/dataset/ee9774c9-7dfe-41a0-89c4-9d08b9b688a9/resource/859e3d5d-eb5a-47b6-8a21-1c887030ca04/download/homelessness_report_january_2021.csv\")"
   ]
  },
  {
   "cell_type": "code",
   "execution_count": 72,
   "metadata": {},
   "outputs": [],
   "source": [
    "\n"
   ]
  },
  {
   "cell_type": "code",
   "execution_count": 16,
   "metadata": {},
   "outputs": [],
   "source": [
    "specific_date_dec_2021 = pd.Timestamp('2021-12')\n",
    "formatted_date_dec_2021 = specific_date_dec_2021.strftime('%Y-%m')\n",
    "specific_date_nov_2021 = pd.Timestamp('2021-11')\n",
    "formatted_date_nov_2021 = specific_date_nov_2021.strftime('%Y-%m')\n",
    "specific_date_oct_2021 = pd.Timestamp('2021-10')\n",
    "formatted_date_oct_2021 = specific_date_oct_2021.strftime('%Y-%m')\n",
    "specific_date_sep_2021 = pd.Timestamp('2021-09')\n",
    "formatted_date_sep_2021 = specific_date_sep_2021.strftime('%Y-%m')\n",
    "specific_date_aug_2021 = pd.Timestamp('2021-08')\n",
    "formatted_date_aug_2021 = specific_date_aug_2021.strftime('%Y-%m')\n",
    "specific_date_jul_2021 = pd.Timestamp('2021-07')\n",
    "formatted_date_jul_2021 = specific_date_jul_2021.strftime('%Y-%m')\n",
    "specific_date_jun_2021 = pd.Timestamp('2021-06')\n",
    "formatted_date_jun_2021 = specific_date_jun_2021.strftime('%Y-%m')\n",
    "specific_date_may_2021 = pd.Timestamp('2021-05')\n",
    "formatted_date_may_2021 = specific_date_may_2021.strftime('%Y-%m')\n",
    "specific_date_apr_2021 = pd.Timestamp('2021-04')\n",
    "formatted_date_apr_2021 = specific_date_apr_2021.strftime('%Y-%m')\n",
    "specific_date_mar_2021 = pd.Timestamp('2021-03')\n",
    "formatted_date_mar_2021 = specific_date_mar_2021.strftime('%Y-%m')\n",
    "specific_date_feb_2021 = pd.Timestamp('2021-02')\n",
    "formatted_date_feb_2021 = specific_date_feb_2021.strftime('%Y-%m')\n",
    "specific_date_jan_2021 = pd.Timestamp('2021-01')\n",
    "formatted_date_jan_2021 = specific_date_jan_2021.strftime('%Y-%m')"
   ]
  },
  {
   "cell_type": "code",
   "execution_count": 17,
   "metadata": {},
   "outputs": [],
   "source": [
    "homelessness_dec_2021['Date'] = formatted_date_dec_2021\n",
    "homelessness_nov_2021['Date'] = formatted_date_nov_2021\n",
    "homelessness_oct_2021['Date'] = formatted_date_oct_2021\n",
    "homelessness_sep_2021['Date'] = formatted_date_sep_2021\n",
    "homelessness_aug_2021['Date'] = formatted_date_aug_2021\n",
    "homelessness_jul_2021['Date'] = formatted_date_jul_2021\n",
    "homelessness_jun_2021['Date'] = formatted_date_jun_2021\n",
    "homelessness_may_2021['Date'] = formatted_date_may_2021\n",
    "homelessness_apr_2021['Date'] = formatted_date_apr_2021\n",
    "homelessness_mar_2021['Date'] = formatted_date_mar_2021\n",
    "homelessness_feb_2021['Date'] = formatted_date_feb_2021\n",
    "homelessness_jan_2021['Date'] = formatted_date_jan_2021"
   ]
  },
  {
   "cell_type": "markdown",
   "metadata": {},
   "source": [
    "### 2020 Homelessness Tables and figures"
   ]
  },
  {
   "cell_type": "code",
   "execution_count": 18,
   "metadata": {},
   "outputs": [],
   "source": [
    "# Monthly homelessness data in ireland by month in 2021\n",
    "\n",
    "homelessness_dec_2020 = pd.read_csv(\"https://opendata.housing.gov.ie/dataset/b9873271-ca82-4137-8185-0a1305a18c91/resource/ab27d35c-ff3c-4f97-b23d-88a432fef4ed/download/homelessness_report_december_2020.csv\")\n",
    "homelessness_nov_2020 = pd.read_csv(\"https://opendata.housing.gov.ie/dataset/546cf306-e9a0-447d-962a-c8218506391a/resource/1f69a8fa-2281-4bca-9ae4-af233a7e6dd9/download/homelessness_report_november_2020.csv\")\n",
    "homelessness_oct_2020 = pd.read_csv(\"https://opendata.housing.gov.ie/dataset/e830ea17-d6f0-49cd-a6e8-a6acc53ad9f0/resource/7e25f578-bcb7-48a1-a6cd-e16fbc9547db/download/homelessness_report_october_2020.csv\")\n",
    "homelessness_sep_2020 = pd.read_csv(\"https://opendata.housing.gov.ie/dataset/b578fa8e-6148-46e1-bc35-956691de2995/resource/ce44f23a-3ff6-4acc-b037-3fed928eb059/download/homelessness_report_september_2020.csv\")\n",
    "homelessness_aug_2020 = pd.read_csv(\"https://opendata.housing.gov.ie/dataset/19d0ba8a-78d8-4453-a9de-cb8ecb4d8e74/resource/cb7174c3-111f-4c33-9a85-8a28f22414bd/download/homelessness_report_august_2020.csv\")\n",
    "homelessness_jul_2020 = pd.read_csv(\"https://opendata.housing.gov.ie/dataset/09a3785a-6256-4c9b-ae97-c38f46ffcb00/resource/3f6f385b-2748-4052-bd19-5ceb30c5a1e2/download/homelessness_report_july_2020.csv\")\n",
    "homelessness_jun_2020 = pd.read_csv(\"https://opendata.housing.gov.ie/dataset/ba0c066e-d273-45ea-95b1-b3f19e01c2c5/resource/b1269f8f-95a9-4d02-8695-8406cdf66fbd/download/homelessness_report_june_2020.csv\")\n",
    "homelessness_may_2020 = pd.read_csv(\"https://opendata.housing.gov.ie/dataset/801be869-2818-47e3-9cdc-d56e50b1e6aa/resource/e5423ee2-10df-429c-9478-1725dafa107b/download/homelessness_report_may_2020.csv\")\n",
    "homelessness_apr_2020 = pd.read_csv(\"https://opendata.housing.gov.ie/dataset/6222d969-31f1-43e4-bd6c-60c59dbe2f40/resource/5d250526-b5d1-433d-b88a-c9b919c21198/download/homelessness_report_april_2020.csv\")\n",
    "homelessness_mar_2020 = pd.read_csv(\"https://opendata.housing.gov.ie/dataset/5dac577f-e148-46ec-a391-876f9667c0f3/resource/c5372a4e-cf38-4b2a-9e58-43e37ceedcd5/download/homelessness_report_march_2020.csv\")\n",
    "homelessness_feb_2020 = pd.read_csv(\"https://opendata.housing.gov.ie/dataset/3471be16-266c-465a-a5b4-5260fc3f245a/resource/04fb9fb3-788e-40d1-900b-a8e489161f08/download/homelessness_report_february_2020.csv\")\n",
    "homelessness_jan_2020 = pd.read_csv(\"https://opendata.housing.gov.ie/dataset/05f828a3-0832-4b05-810e-240408af15df/resource/9c52dcb3-be75-4227-9b0c-2ab8b13dd831/download/homelessness_report_january_2020.csv\")"
   ]
  },
  {
   "cell_type": "code",
   "execution_count": 19,
   "metadata": {},
   "outputs": [],
   "source": [
    "specific_date_dec_2020 = pd.Timestamp('2020-12')\n",
    "formatted_date_dec_2020 = specific_date_dec_2020.strftime('%Y-%m')\n",
    "specific_date_nov_2020 = pd.Timestamp('2020-11')\n",
    "formatted_date_nov_2020 = specific_date_nov_2020.strftime('%Y-%m')\n",
    "specific_date_oct_2020 = pd.Timestamp('2020-10')\n",
    "formatted_date_oct_2020 = specific_date_oct_2020.strftime('%Y-%m')\n",
    "specific_date_sep_2020 = pd.Timestamp('2020-09')\n",
    "formatted_date_sep_2020 = specific_date_sep_2020.strftime('%Y-%m')\n",
    "specific_date_aug_2020 = pd.Timestamp('2020-08')\n",
    "formatted_date_aug_2020 = specific_date_aug_2020.strftime('%Y-%m')\n",
    "specific_date_jul_2020 = pd.Timestamp('2020-07')\n",
    "formatted_date_jul_2020 = specific_date_jul_2020.strftime('%Y-%m')\n",
    "specific_date_jun_2020 = pd.Timestamp('2020-06')\n",
    "formatted_date_jun_2020 = specific_date_jun_2020.strftime('%Y-%m')\n",
    "specific_date_may_2020 = pd.Timestamp('2020-05')\n",
    "formatted_date_may_2020 = specific_date_may_2020.strftime('%Y-%m')\n",
    "specific_date_apr_2020 = pd.Timestamp('2020-04')\n",
    "formatted_date_apr_2020 = specific_date_apr_2020.strftime('%Y-%m')\n",
    "specific_date_mar_2020 = pd.Timestamp('2020-03')\n",
    "formatted_date_mar_2020 = specific_date_mar_2020.strftime('%Y-%m')\n",
    "specific_date_feb_2020 = pd.Timestamp('2020-02')\n",
    "formatted_date_feb_2020 = specific_date_feb_2020.strftime('%Y-%m')\n",
    "specific_date_jan_2020 = pd.Timestamp('2020-01')\n",
    "formatted_date_jan_2020 = specific_date_jan_2020.strftime('%Y-%m')"
   ]
  },
  {
   "cell_type": "code",
   "execution_count": 20,
   "metadata": {},
   "outputs": [],
   "source": [
    "\n",
    "homelessness_dec_2020['Date'] = formatted_date_dec_2020\n",
    "homelessness_nov_2020['Date'] = formatted_date_nov_2020\n",
    "homelessness_oct_2020['Date'] = formatted_date_oct_2020\n",
    "homelessness_sep_2020['Date'] = formatted_date_sep_2020\n",
    "homelessness_aug_2020['Date'] = formatted_date_aug_2020\n",
    "homelessness_jul_2020['Date'] = formatted_date_jul_2020\n",
    "homelessness_jun_2020['Date'] = formatted_date_jun_2020\n",
    "homelessness_may_2020['Date'] = formatted_date_may_2020\n",
    "homelessness_apr_2020['Date'] = formatted_date_apr_2020\n",
    "homelessness_mar_2020['Date'] = formatted_date_mar_2020\n",
    "homelessness_feb_2020['Date'] = formatted_date_feb_2020\n",
    "homelessness_jan_2020['Date'] = formatted_date_jan_2020"
   ]
  },
  {
   "cell_type": "code",
   "execution_count": 21,
   "metadata": {},
   "outputs": [],
   "source": [
    "combined_2024 = pd.concat([homelessness_oct_2024,homelessness_sep_2024, homelessness_aug_2024,homelessness_jul_2024,homelessness_jun_2024,homelessness_may_2024,homelessness_apr_2024,homelessness_mar_2024,homelessness_feb_2024,homelessness_jan_2024], ignore_index=True)\n",
    "combined_2024.drop(combined_2024.columns[12:19], axis=1, inplace=True)\n",
    "combined_2023 = pd.concat([homelessness_dec_2023,homelessness_nov_2023, homelessness_oct_2023,homelessness_sep_2023, homelessness_aug_2023,homelessness_jul_2023,homelessness_jun_2023,homelessness_feb_2023,homelessness_jan_2023], ignore_index=True)\n",
    "combined_2023.drop(combined_2023.columns[12:19], axis=1, inplace=True)\n",
    "combined_2022 = pd.concat([homelessness_dec_2022, homelessness_nov_2022, homelessness_oct_2022, homelessness_sep_2022, homelessness_aug_2022, homelessness_jul_2022, homelessness_jun_2022, homelessness_may_2022, homelessness_apr_2022, homelessness_mar_2022, homelessness_feb_2022, homelessness_jan_2022], ignore_index=True)\n",
    "combined_2022.drop(combined_2022.columns[12:19], axis=1, inplace=True)\n",
    "combined_2021 = pd.concat([homelessness_dec_2021, homelessness_nov_2021, homelessness_oct_2021, homelessness_sep_2021, homelessness_aug_2021, homelessness_jul_2021, homelessness_jun_2021, homelessness_may_2021, homelessness_apr_2021, homelessness_mar_2021, homelessness_feb_2021, homelessness_jan_2021], ignore_index=True)\n",
    "combined_2021.drop(combined_2021.columns[12:15].tolist() + combined_2021.columns[16:19].tolist(), axis=1, inplace=True)\n",
    "combined_2020 = pd.concat([homelessness_dec_2020, homelessness_nov_2020, homelessness_oct_2020, homelessness_sep_2020, homelessness_aug_2020, homelessness_jul_2020, homelessness_jun_2020, homelessness_may_2020, homelessness_apr_2020, homelessness_mar_2020, homelessness_feb_2020, homelessness_jan_2020], ignore_index=True)\n",
    "combined_2020.drop(combined_2020.columns[12:16], axis=1, inplace=True)\n"
   ]
  },
  {
   "cell_type": "code",
   "execution_count": 22,
   "metadata": {},
   "outputs": [],
   "source": [
    "total = pd.concat([combined_2024, combined_2023, combined_2022,combined_2021,combined_2020])"
   ]
  },
  {
   "cell_type": "code",
   "execution_count": 23,
   "metadata": {},
   "outputs": [],
   "source": [
    "total.to_csv('C:\\\\Users\\\\ROB86\\\\OneDrive\\\\Desktop\\\\total_2026.csv', index=False)\n",
    "#print(\"Table exported as CSV!\")"
   ]
  },
  {
   "cell_type": "code",
   "execution_count": 27,
   "metadata": {},
   "outputs": [
    {
     "name": "stdout",
     "output_type": "stream",
     "text": [
      "object\n"
     ]
    }
   ],
   "source": [
    "print(total['Date'].dtype)"
   ]
  },
  {
   "cell_type": "code",
   "execution_count": null,
   "metadata": {},
   "outputs": [
    {
     "ename": "ValueError",
     "evalue": "could not convert string to float: '3,689'",
     "output_type": "error",
     "traceback": [
      "\u001b[1;31m---------------------------------------------------------------------------\u001b[0m",
      "\u001b[1;31mValueError\u001b[0m                                Traceback (most recent call last)",
      "Cell \u001b[1;32mIn[26], line 7\u001b[0m\n\u001b[0;32m      5\u001b[0m \u001b[38;5;66;03m# Plotting\u001b[39;00m\n\u001b[0;32m      6\u001b[0m plt\u001b[38;5;241m.\u001b[39mfigure(figsize\u001b[38;5;241m=\u001b[39m(\u001b[38;5;241m14\u001b[39m, \u001b[38;5;241m6\u001b[39m))\n\u001b[1;32m----> 7\u001b[0m \u001b[43mplt\u001b[49m\u001b[38;5;241;43m.\u001b[39;49m\u001b[43mplot\u001b[49m\u001b[43m(\u001b[49m\u001b[43mtotal_dublin\u001b[49m\u001b[43m[\u001b[49m\u001b[38;5;124;43m'\u001b[39;49m\u001b[38;5;124;43mDate\u001b[39;49m\u001b[38;5;124;43m'\u001b[39;49m\u001b[43m]\u001b[49m\u001b[43m,\u001b[49m\u001b[43m \u001b[49m\u001b[43mtotal_dublin\u001b[49m\u001b[43m[\u001b[49m\u001b[38;5;124;43m'\u001b[39;49m\u001b[38;5;124;43mMale Adults\u001b[39;49m\u001b[38;5;124;43m'\u001b[39;49m\u001b[43m]\u001b[49m\u001b[43m,\u001b[49m\u001b[43m \u001b[49m\u001b[43mmarker\u001b[49m\u001b[38;5;241;43m=\u001b[39;49m\u001b[38;5;124;43m'\u001b[39;49m\u001b[38;5;124;43mo\u001b[39;49m\u001b[38;5;124;43m'\u001b[39;49m\u001b[43m,\u001b[49m\u001b[43m \u001b[49m\u001b[43mcolor\u001b[49m\u001b[38;5;241;43m=\u001b[39;49m\u001b[38;5;124;43m'\u001b[39;49m\u001b[38;5;124;43mb\u001b[39;49m\u001b[38;5;124;43m'\u001b[39;49m\u001b[43m,\u001b[49m\u001b[43m \u001b[49m\u001b[43mlabel\u001b[49m\u001b[38;5;241;43m=\u001b[39;49m\u001b[38;5;124;43m'\u001b[39;49m\u001b[38;5;124;43mMale Adults\u001b[39;49m\u001b[38;5;124;43m'\u001b[39;49m\u001b[43m)\u001b[49m\n\u001b[0;32m      8\u001b[0m plt\u001b[38;5;241m.\u001b[39mplot(total_dublin[\u001b[38;5;124m'\u001b[39m\u001b[38;5;124mDate\u001b[39m\u001b[38;5;124m'\u001b[39m], total_dublin[\u001b[38;5;124m'\u001b[39m\u001b[38;5;124mFemale Adults\u001b[39m\u001b[38;5;124m'\u001b[39m], marker\u001b[38;5;241m=\u001b[39m\u001b[38;5;124m'\u001b[39m\u001b[38;5;124mo\u001b[39m\u001b[38;5;124m'\u001b[39m, color\u001b[38;5;241m=\u001b[39m\u001b[38;5;124m'\u001b[39m\u001b[38;5;124mr\u001b[39m\u001b[38;5;124m'\u001b[39m, label\u001b[38;5;241m=\u001b[39m\u001b[38;5;124m'\u001b[39m\u001b[38;5;124mFemale Adults\u001b[39m\u001b[38;5;124m'\u001b[39m)\n\u001b[0;32m     10\u001b[0m \u001b[38;5;66;03m# Adding labels and title\u001b[39;00m\n",
      "File \u001b[1;32mc:\\Users\\ROB86\\anaconda3\\Lib\\site-packages\\matplotlib\\pyplot.py:2812\u001b[0m, in \u001b[0;36mplot\u001b[1;34m(scalex, scaley, data, *args, **kwargs)\u001b[0m\n\u001b[0;32m   2810\u001b[0m \u001b[38;5;129m@_copy_docstring_and_deprecators\u001b[39m(Axes\u001b[38;5;241m.\u001b[39mplot)\n\u001b[0;32m   2811\u001b[0m \u001b[38;5;28;01mdef\u001b[39;00m \u001b[38;5;21mplot\u001b[39m(\u001b[38;5;241m*\u001b[39margs, scalex\u001b[38;5;241m=\u001b[39m\u001b[38;5;28;01mTrue\u001b[39;00m, scaley\u001b[38;5;241m=\u001b[39m\u001b[38;5;28;01mTrue\u001b[39;00m, data\u001b[38;5;241m=\u001b[39m\u001b[38;5;28;01mNone\u001b[39;00m, \u001b[38;5;241m*\u001b[39m\u001b[38;5;241m*\u001b[39mkwargs):\n\u001b[1;32m-> 2812\u001b[0m     \u001b[38;5;28;01mreturn\u001b[39;00m \u001b[43mgca\u001b[49m\u001b[43m(\u001b[49m\u001b[43m)\u001b[49m\u001b[38;5;241;43m.\u001b[39;49m\u001b[43mplot\u001b[49m\u001b[43m(\u001b[49m\n\u001b[0;32m   2813\u001b[0m \u001b[43m        \u001b[49m\u001b[38;5;241;43m*\u001b[39;49m\u001b[43margs\u001b[49m\u001b[43m,\u001b[49m\u001b[43m \u001b[49m\u001b[43mscalex\u001b[49m\u001b[38;5;241;43m=\u001b[39;49m\u001b[43mscalex\u001b[49m\u001b[43m,\u001b[49m\u001b[43m \u001b[49m\u001b[43mscaley\u001b[49m\u001b[38;5;241;43m=\u001b[39;49m\u001b[43mscaley\u001b[49m\u001b[43m,\u001b[49m\n\u001b[0;32m   2814\u001b[0m \u001b[43m        \u001b[49m\u001b[38;5;241;43m*\u001b[39;49m\u001b[38;5;241;43m*\u001b[39;49m\u001b[43m(\u001b[49m\u001b[43m{\u001b[49m\u001b[38;5;124;43m\"\u001b[39;49m\u001b[38;5;124;43mdata\u001b[39;49m\u001b[38;5;124;43m\"\u001b[39;49m\u001b[43m:\u001b[49m\u001b[43m \u001b[49m\u001b[43mdata\u001b[49m\u001b[43m}\u001b[49m\u001b[43m \u001b[49m\u001b[38;5;28;43;01mif\u001b[39;49;00m\u001b[43m \u001b[49m\u001b[43mdata\u001b[49m\u001b[43m \u001b[49m\u001b[38;5;129;43;01mis\u001b[39;49;00m\u001b[43m \u001b[49m\u001b[38;5;129;43;01mnot\u001b[39;49;00m\u001b[43m \u001b[49m\u001b[38;5;28;43;01mNone\u001b[39;49;00m\u001b[43m \u001b[49m\u001b[38;5;28;43;01melse\u001b[39;49;00m\u001b[43m \u001b[49m\u001b[43m{\u001b[49m\u001b[43m}\u001b[49m\u001b[43m)\u001b[49m\u001b[43m,\u001b[49m\u001b[43m \u001b[49m\u001b[38;5;241;43m*\u001b[39;49m\u001b[38;5;241;43m*\u001b[39;49m\u001b[43mkwargs\u001b[49m\u001b[43m)\u001b[49m\n",
      "File \u001b[1;32mc:\\Users\\ROB86\\anaconda3\\Lib\\site-packages\\matplotlib\\axes\\_axes.py:1690\u001b[0m, in \u001b[0;36mAxes.plot\u001b[1;34m(self, scalex, scaley, data, *args, **kwargs)\u001b[0m\n\u001b[0;32m   1688\u001b[0m lines \u001b[38;5;241m=\u001b[39m [\u001b[38;5;241m*\u001b[39m\u001b[38;5;28mself\u001b[39m\u001b[38;5;241m.\u001b[39m_get_lines(\u001b[38;5;241m*\u001b[39margs, data\u001b[38;5;241m=\u001b[39mdata, \u001b[38;5;241m*\u001b[39m\u001b[38;5;241m*\u001b[39mkwargs)]\n\u001b[0;32m   1689\u001b[0m \u001b[38;5;28;01mfor\u001b[39;00m line \u001b[38;5;129;01min\u001b[39;00m lines:\n\u001b[1;32m-> 1690\u001b[0m     \u001b[38;5;28;43mself\u001b[39;49m\u001b[38;5;241;43m.\u001b[39;49m\u001b[43madd_line\u001b[49m\u001b[43m(\u001b[49m\u001b[43mline\u001b[49m\u001b[43m)\u001b[49m\n\u001b[0;32m   1691\u001b[0m \u001b[38;5;28;01mif\u001b[39;00m scalex:\n\u001b[0;32m   1692\u001b[0m     \u001b[38;5;28mself\u001b[39m\u001b[38;5;241m.\u001b[39m_request_autoscale_view(\u001b[38;5;124m\"\u001b[39m\u001b[38;5;124mx\u001b[39m\u001b[38;5;124m\"\u001b[39m)\n",
      "File \u001b[1;32mc:\\Users\\ROB86\\anaconda3\\Lib\\site-packages\\matplotlib\\axes\\_base.py:2304\u001b[0m, in \u001b[0;36m_AxesBase.add_line\u001b[1;34m(self, line)\u001b[0m\n\u001b[0;32m   2301\u001b[0m \u001b[38;5;28;01mif\u001b[39;00m line\u001b[38;5;241m.\u001b[39mget_clip_path() \u001b[38;5;129;01mis\u001b[39;00m \u001b[38;5;28;01mNone\u001b[39;00m:\n\u001b[0;32m   2302\u001b[0m     line\u001b[38;5;241m.\u001b[39mset_clip_path(\u001b[38;5;28mself\u001b[39m\u001b[38;5;241m.\u001b[39mpatch)\n\u001b[1;32m-> 2304\u001b[0m \u001b[38;5;28;43mself\u001b[39;49m\u001b[38;5;241;43m.\u001b[39;49m\u001b[43m_update_line_limits\u001b[49m\u001b[43m(\u001b[49m\u001b[43mline\u001b[49m\u001b[43m)\u001b[49m\n\u001b[0;32m   2305\u001b[0m \u001b[38;5;28;01mif\u001b[39;00m \u001b[38;5;129;01mnot\u001b[39;00m line\u001b[38;5;241m.\u001b[39mget_label():\n\u001b[0;32m   2306\u001b[0m     line\u001b[38;5;241m.\u001b[39mset_label(\u001b[38;5;124mf\u001b[39m\u001b[38;5;124m'\u001b[39m\u001b[38;5;124m_child\u001b[39m\u001b[38;5;132;01m{\u001b[39;00m\u001b[38;5;28mlen\u001b[39m(\u001b[38;5;28mself\u001b[39m\u001b[38;5;241m.\u001b[39m_children)\u001b[38;5;132;01m}\u001b[39;00m\u001b[38;5;124m'\u001b[39m)\n",
      "File \u001b[1;32mc:\\Users\\ROB86\\anaconda3\\Lib\\site-packages\\matplotlib\\axes\\_base.py:2327\u001b[0m, in \u001b[0;36m_AxesBase._update_line_limits\u001b[1;34m(self, line)\u001b[0m\n\u001b[0;32m   2323\u001b[0m \u001b[38;5;28;01mdef\u001b[39;00m \u001b[38;5;21m_update_line_limits\u001b[39m(\u001b[38;5;28mself\u001b[39m, line):\n\u001b[0;32m   2324\u001b[0m \u001b[38;5;250m    \u001b[39m\u001b[38;5;124;03m\"\"\"\u001b[39;00m\n\u001b[0;32m   2325\u001b[0m \u001b[38;5;124;03m    Figures out the data limit of the given line, updating self.dataLim.\u001b[39;00m\n\u001b[0;32m   2326\u001b[0m \u001b[38;5;124;03m    \"\"\"\u001b[39;00m\n\u001b[1;32m-> 2327\u001b[0m     path \u001b[38;5;241m=\u001b[39m \u001b[43mline\u001b[49m\u001b[38;5;241;43m.\u001b[39;49m\u001b[43mget_path\u001b[49m\u001b[43m(\u001b[49m\u001b[43m)\u001b[49m\n\u001b[0;32m   2328\u001b[0m     \u001b[38;5;28;01mif\u001b[39;00m path\u001b[38;5;241m.\u001b[39mvertices\u001b[38;5;241m.\u001b[39msize \u001b[38;5;241m==\u001b[39m \u001b[38;5;241m0\u001b[39m:\n\u001b[0;32m   2329\u001b[0m         \u001b[38;5;28;01mreturn\u001b[39;00m\n",
      "File \u001b[1;32mc:\\Users\\ROB86\\anaconda3\\Lib\\site-packages\\matplotlib\\lines.py:1028\u001b[0m, in \u001b[0;36mLine2D.get_path\u001b[1;34m(self)\u001b[0m\n\u001b[0;32m   1026\u001b[0m \u001b[38;5;250m\u001b[39m\u001b[38;5;124;03m\"\"\"Return the `~matplotlib.path.Path` associated with this line.\"\"\"\u001b[39;00m\n\u001b[0;32m   1027\u001b[0m \u001b[38;5;28;01mif\u001b[39;00m \u001b[38;5;28mself\u001b[39m\u001b[38;5;241m.\u001b[39m_invalidy \u001b[38;5;129;01mor\u001b[39;00m \u001b[38;5;28mself\u001b[39m\u001b[38;5;241m.\u001b[39m_invalidx:\n\u001b[1;32m-> 1028\u001b[0m     \u001b[38;5;28;43mself\u001b[39;49m\u001b[38;5;241;43m.\u001b[39;49m\u001b[43mrecache\u001b[49m\u001b[43m(\u001b[49m\u001b[43m)\u001b[49m\n\u001b[0;32m   1029\u001b[0m \u001b[38;5;28;01mreturn\u001b[39;00m \u001b[38;5;28mself\u001b[39m\u001b[38;5;241m.\u001b[39m_path\n",
      "File \u001b[1;32mc:\\Users\\ROB86\\anaconda3\\Lib\\site-packages\\matplotlib\\lines.py:664\u001b[0m, in \u001b[0;36mLine2D.recache\u001b[1;34m(self, always)\u001b[0m\n\u001b[0;32m    662\u001b[0m \u001b[38;5;28;01mif\u001b[39;00m always \u001b[38;5;129;01mor\u001b[39;00m \u001b[38;5;28mself\u001b[39m\u001b[38;5;241m.\u001b[39m_invalidy:\n\u001b[0;32m    663\u001b[0m     yconv \u001b[38;5;241m=\u001b[39m \u001b[38;5;28mself\u001b[39m\u001b[38;5;241m.\u001b[39mconvert_yunits(\u001b[38;5;28mself\u001b[39m\u001b[38;5;241m.\u001b[39m_yorig)\n\u001b[1;32m--> 664\u001b[0m     y \u001b[38;5;241m=\u001b[39m \u001b[43m_to_unmasked_float_array\u001b[49m\u001b[43m(\u001b[49m\u001b[43myconv\u001b[49m\u001b[43m)\u001b[49m\u001b[38;5;241m.\u001b[39mravel()\n\u001b[0;32m    665\u001b[0m \u001b[38;5;28;01melse\u001b[39;00m:\n\u001b[0;32m    666\u001b[0m     y \u001b[38;5;241m=\u001b[39m \u001b[38;5;28mself\u001b[39m\u001b[38;5;241m.\u001b[39m_y\n",
      "File \u001b[1;32mc:\\Users\\ROB86\\anaconda3\\Lib\\site-packages\\matplotlib\\cbook\\__init__.py:1340\u001b[0m, in \u001b[0;36m_to_unmasked_float_array\u001b[1;34m(x)\u001b[0m\n\u001b[0;32m   1338\u001b[0m     \u001b[38;5;28;01mreturn\u001b[39;00m np\u001b[38;5;241m.\u001b[39mma\u001b[38;5;241m.\u001b[39masarray(x, \u001b[38;5;28mfloat\u001b[39m)\u001b[38;5;241m.\u001b[39mfilled(np\u001b[38;5;241m.\u001b[39mnan)\n\u001b[0;32m   1339\u001b[0m \u001b[38;5;28;01melse\u001b[39;00m:\n\u001b[1;32m-> 1340\u001b[0m     \u001b[38;5;28;01mreturn\u001b[39;00m np\u001b[38;5;241m.\u001b[39masarray(x, \u001b[38;5;28mfloat\u001b[39m)\n",
      "\u001b[1;31mValueError\u001b[0m: could not convert string to float: '3,689'"
     ]
    },
    {
     "data": {
      "image/png": "[encoded data removed]",
      "text/plain": [
       "<Figure size 1400x600 with 1 Axes>"
      ]
     },
     "metadata": {},
     "output_type": "display_data"
    }
   ],
   "source": [
    "# Filter the data for Dublin region\n",
    "total_dublin = total[total['Region'] == 'Dublin']\n",
    "\n",
    "\n",
    "\n",
    "\n",
    "# Plotting\n",
    "plt.figure(figsize=(14, 6))\n",
    "plt.plot(total_dublin['Date'], total_dublin['Male Adults'], marker='o', color='b', label='Male Adults')\n",
    "plt.plot(total_dublin['Date'], total_dublin['Female Adults'], marker='o', color='r', label='Female Adults')\n",
    "\n",
    "# Adding labels and title\n",
    "plt.xlabel('Date')\n",
    "plt.ylabel('Number of Adults')\n",
    "plt.title('Male and Female Adults in Dublin Over Time')\n",
    "plt.xticks(rotation=45)\n",
    "plt.legend()\n",
    "\n",
    "# Show the plot\n",
    "plt.tight_layout()\n",
    "plt.show()\n",
    "\n",
    "# Show the plot\n",
    "plt.tight_layout()\n",
    "plt.show()"
   ]
  }
 ],
 "metadata": {
  "kernelspec": {
   "display_name": "base",
   "language": "python",
   "name": "python3"
  },
  "language_info": {
   "codemirror_mode": {
    "name": "ipython",
    "version": 3
   },
   "file_extension": ".py",
   "mimetype": "text/x-python",
   "name": "python",
   "nbconvert_exporter": "python",
   "pygments_lexer": "ipython3",
   "version": "3.11.5"
  }
 },
 "nbformat": 4,
 "nbformat_minor": 2
}
