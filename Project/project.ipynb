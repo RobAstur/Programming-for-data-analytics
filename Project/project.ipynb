{
 "cells": [
  {
   "cell_type": "markdown",
   "metadata": {},
   "source": [
    "# Project "
   ]
  },
  {
   "cell_type": "markdown",
   "metadata": {},
   "source": [
    "## Overview"
   ]
  },
  {
   "cell_type": "code",
   "execution_count": 1,
   "metadata": {},
   "outputs": [],
   "source": [
    "import matplotlib.pyplot as plt\n",
    "import pandas as pd\n",
    "import seaborn as sns\n"
   ]
  },
  {
   "cell_type": "code",
   "execution_count": 99,
   "metadata": {},
   "outputs": [],
   "source": [
    "# create the path to table. Table created using date from https://data.cso.ie/. It has the Residential Property Price Index\n",
    "filepath_price_property_index = r'C:\\Users\\ROB86\\OneDrive\\Desktop\\Price property index.csv'"
   ]
  },
  {
   "cell_type": "code",
   "execution_count": null,
   "metadata": {},
   "outputs": [],
   "source": [
    "#Open the file. Convert column Month into datetime, add the desired format and sort the values. Remove rows with no Values\n",
    "price_property_index = pd.read_csv(filepath_price_property_index)\n",
    "price_property_index['Month'] = pd.to_datetime(price_property_index['Month'], format='%Y %B')\n",
    "price_property_index['Month'] = price_property_index['Month'].dt.strftime('%Y-%m')\n",
    "price_property_index = price_property_index.dropna(subset=['VALUE'])\n",
    "price_property_index = price_property_index.sort_values(by='Month', ascending=False)\n",
    "\n"
   ]
  },
  {
   "cell_type": "code",
   "execution_count": 23,
   "metadata": {},
   "outputs": [],
   "source": [
    "homelessness_sep_2024 = pd.read_csv(\"https://opendata.housing.gov.ie/dataset/03489128-448c-47ac-86d2-f9874e380c49/resource/2608bcbd-c024-4ccb-8480-a0a70b78764e/download/homelessness-report-september-2024.csv\")\n",
    "homelessness_jul_2024 = pd.read_csv(\"https://opendata.housing.gov.ie/dataset/e38b86a2-968a-41b9-adc4-63ce9b017ad8/resource/2d8746e7-cd60-4e4a-a65f-54965e2a5eb7/download/homelessness-report-july-2024.csv\")"
   ]
  },
  {
   "cell_type": "code",
   "execution_count": 59,
   "metadata": {},
   "outputs": [],
   "source": [
    "specific_date_sep = pd.Timestamp('2024-09')\n",
    "formatted_date_sep = specific_date_sep.strftime('%Y-%m')\n",
    "specific_date_jul = pd.Timestamp('2024-07')\n",
    "formatted_date_jul = specific_date_jul.strftime('%Y-%m')"
   ]
  },
  {
   "cell_type": "code",
   "execution_count": 60,
   "metadata": {},
   "outputs": [],
   "source": [
    "homelessness_sep_2024['Date'] = formatted_date_sep\n",
    "homelessness_jul_2024['Date'] = formatted_date_jul"
   ]
  },
  {
   "cell_type": "code",
   "execution_count": 61,
   "metadata": {},
   "outputs": [],
   "source": [
    "combined_df = pd.concat([homelessness_sep_2024, homelessness_jul_2024], ignore_index=True)"
   ]
  }
 ],
 "metadata": {
  "kernelspec": {
   "display_name": "base",
   "language": "python",
   "name": "python3"
  },
  "language_info": {
   "codemirror_mode": {
    "name": "ipython",
    "version": 3
   },
   "file_extension": ".py",
   "mimetype": "text/x-python",
   "name": "python",
   "nbconvert_exporter": "python",
   "pygments_lexer": "ipython3",
   "version": "3.11.5"
  }
 },
 "nbformat": 4,
 "nbformat_minor": 2
}
