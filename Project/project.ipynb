{
 "cells": [
  {
   "cell_type": "markdown",
   "metadata": {},
   "source": [
    "# Project "
   ]
  },
  {
   "cell_type": "markdown",
   "metadata": {},
   "source": [
    "## Overview"
   ]
  },
  {
   "cell_type": "code",
   "execution_count": 15,
   "metadata": {},
   "outputs": [],
   "source": [
    "import matplotlib.pyplot as plt\n",
    "import pandas as pd\n",
    "import seaborn as sns\n"
   ]
  },
  {
   "cell_type": "code",
   "execution_count": 2,
   "metadata": {},
   "outputs": [],
   "source": [
    "# create the path to table. Table created using date from https://data.cso.ie/. It has the Residential Property Price Index\n",
    "filepath_price_property_index = r'C:\\Users\\ROB86\\OneDrive\\Desktop\\Price property index.csv'"
   ]
  },
  {
   "cell_type": "code",
   "execution_count": 3,
   "metadata": {},
   "outputs": [],
   "source": [
    "#Open the file. Convert column Month into datetime, add the desired format and sort the values. Remove rows with no Values\n",
    "price_property_index = pd.read_csv(filepath_price_property_index)\n",
    "price_property_index['Month'] = pd.to_datetime(price_property_index['Month'], format='%Y %B')\n",
    "price_property_index['Month'] = price_property_index['Month'].dt.strftime('%Y-%m')\n",
    "price_property_index = price_property_index.dropna(subset=['VALUE'])\n",
    "\n",
    "\n"
   ]
  },
  {
   "cell_type": "markdown",
   "metadata": {},
   "source": [
    "### 2024 homelessness tables and formats"
   ]
  },
  {
   "cell_type": "code",
   "execution_count": 4,
   "metadata": {},
   "outputs": [],
   "source": [
    "# Mnthly homelessness data in ireland by month in 2024\n",
    "homelessness_oct_2024 = pd.read_csv(\"https://opendata.housing.gov.ie/dataset/6b1da9f4-c520-45bd-8070-8777760c5157/resource/7708775a-50d5-4e09-8812-210dfdc8c2b5/download/homelessness-report-october-2024.csv\")\n",
    "homelessness_sep_2024 = pd.read_csv(\"https://opendata.housing.gov.ie/dataset/03489128-448c-47ac-86d2-f9874e380c49/resource/2608bcbd-c024-4ccb-8480-a0a70b78764e/download/homelessness-report-september-2024.csv\")\n",
    "homelessness_aug_2024 = pd.read_csv(\"https://opendata.housing.gov.ie/dataset/23897cc0-bbee-4d3c-8fa0-d1bc9e81b9b3/resource/73792975-ba87-4afc-9820-6d76d9bfa543/download/homelessness-report-august-2024.csv\")\n",
    "homelessness_jul_2024 = pd.read_csv(\"https://opendata.housing.gov.ie/dataset/e38b86a2-968a-41b9-adc4-63ce9b017ad8/resource/2d8746e7-cd60-4e4a-a65f-54965e2a5eb7/download/homelessness-report-july-2024.csv\")\n",
    "homelessness_jun_2024 = pd.read_csv(\"https://opendata.housing.gov.ie/dataset/2681b76e-337e-4edc-a912-8a683d9708e9/resource/225fc1d9-131c-48c1-be3a-934f72f2e9aa/download/homelessness-report-june-2024.csv\")\n",
    "homelessness_may_2024 = pd.read_csv(\"https://opendata.housing.gov.ie/dataset/fd8c95ec-1908-4778-a908-ceda068b72ae/resource/8cdf6fed-ddfc-431a-bd7b-c5be53cac38b/download/homelessness-report-may-2024.csv\")\n",
    "homelessness_apr_2024 = pd.read_csv(\"https://opendata.housing.gov.ie/dataset/d3425423-5f1f-4d8e-81b8-0c42901a7e9a/resource/7f378425-0270-46c4-bf02-052336fd0642/download/homelessness-report-april-2024.csv\")\n",
    "homelessness_mar_2024 = pd.read_csv(\"https://opendata.housing.gov.ie/dataset/9e032d77-9c87-49f5-b676-fe8ce0ee9381/resource/ebad6aec-078e-42aa-b0ac-270449f63cf4/download/homelessness-report-march-2024.csv\")\n",
    "homelessness_feb_2024 = pd.read_csv(\"https://opendata.housing.gov.ie/dataset/83fa5de0-2430-4798-b243-5231dd62d39b/resource/08bc6f3b-c348-4fa4-9313-576fd10338bf/download/homelessness-report-february-2024.csv\")\n",
    "homelessness_jan_2024 = pd.read_csv(\"https://opendata.housing.gov.ie/dataset/681fd35e-6839-462f-9bed-aaf4034d1b30/resource/7537e266-c05e-443f-a8e4-92bd28d99fd6/download/homelessness-report-january-2024.csv\")"
   ]
  },
  {
   "cell_type": "code",
   "execution_count": 90,
   "metadata": {},
   "outputs": [],
   "source": [
    "# Create timestamps and convert them into strings with the desire format\n",
    "specific_date_oct_2024 = pd.Timestamp('2024-10')\n",
    "formatted_date_oct_2024 = specific_date_oct_2024.strftime('%Y-%m')\n",
    "specific_date_sep_2024 = pd.Timestamp('2024-09')\n",
    "formatted_date_sep_2024 = specific_date_sep_2024.strftime('%Y-%m')\n",
    "specific_date_aug_2024 = pd.Timestamp('2024-08')\n",
    "formatted_date_aug_2024 = specific_date_aug_2024.strftime('%Y-%m')\n",
    "specific_date_jul_2024 = pd.Timestamp('2024-07')\n",
    "formatted_date_jul_2024 = specific_date_jul_2024.strftime('%Y-%m')\n",
    "specific_date_jun_2024 = pd.Timestamp('2024-06')\n",
    "formatted_date_jun_2024 = specific_date_jun_2024.strftime('%Y-%m')\n",
    "specific_date_may_2024 = pd.Timestamp('2024-05')\n",
    "formatted_date_may_2024 = specific_date_may_2024.strftime('%Y-%m')\n",
    "specific_date_apr_2024 = pd.Timestamp('2024-04')\n",
    "formatted_date_apr_2024 = specific_date_apr_2024.strftime('%Y-%m')\n",
    "specific_date_mar_2024 = pd.Timestamp('2024-03')\n",
    "formatted_date_mar_2024 = specific_date_mar_2024.strftime('%Y-%m')\n",
    "specific_date_feb_2024 = pd.Timestamp('2024-02')\n",
    "formatted_date_feb_2024 = specific_date_feb_2024.strftime('%Y-%m')\n",
    "specific_date_jan_2024 = pd.Timestamp('2024-01')\n",
    "formatted_date_jan_2024 = specific_date_jan_2024.strftime('%Y-%m')\n"
   ]
  },
  {
   "cell_type": "code",
   "execution_count": 91,
   "metadata": {},
   "outputs": [],
   "source": [
    "# adding a new column Date to the table with the date and desire format\n",
    "homelessness_oct_2024['Date'] = formatted_date_oct_2024\n",
    "homelessness_sep_2024['Date'] = formatted_date_sep_2024\n",
    "homelessness_aug_2024['Date'] = formatted_date_aug_2024\n",
    "homelessness_jul_2024['Date'] = formatted_date_jul_2024\n",
    "homelessness_jun_2024['Date'] = formatted_date_jun_2024\n",
    "homelessness_may_2024['Date'] = formatted_date_may_2024\n",
    "homelessness_apr_2024['Date'] = formatted_date_apr_2024\n",
    "homelessness_mar_2024['Date'] = formatted_date_mar_2024\t\n",
    "homelessness_feb_2024['Date'] = formatted_date_feb_2024\n",
    "homelessness_jan_2024['Date'] = formatted_date_jan_2024"
   ]
  },
  {
   "cell_type": "code",
   "execution_count": null,
   "metadata": {},
   "outputs": [],
   "source": [
    "combined_2024 = pd.concat([homelessness_oct_2024,homelessness_sep_2024,homelessness_aug_2024, homelessness_jul_2024,homelessness_jun_2024,homelessness_may_2024,homelessness_apr_2024,homelessness_mar_2024,homelessness_feb_2024,homelessness_jan_2024], ignore_index=True)"
   ]
  },
  {
   "cell_type": "markdown",
   "metadata": {},
   "source": [
    "### 2023 Homelessness tables and figures"
   ]
  },
  {
   "cell_type": "code",
   "execution_count": 64,
   "metadata": {},
   "outputs": [],
   "source": [
    "# Mnthly homelessness data in ireland by month in 2024\n",
    "homelessness_dec_2023 = pd.read_csv(\"https://opendata.housing.gov.ie/dataset/5469b7a9-4ff5-4f37-940b-97a1b2602dc4/resource/dfbcf1f2-51f2-438a-8103-15c8ff560c0b/download/homelessness-report-december-2023.csv\")\n",
    "homelessness_nov_2023 = pd.read_csv(\"https://opendata.housing.gov.ie/dataset/43ca160e-a274-4e5c-a66c-cc332f328278/resource/e1e72e13-31d3-4f57-9411-7d1ba2d90da7/download/homelessness-report-november-2023.csv\")\n",
    "homelessness_oct_2023 = pd.read_csv(\"https://opendata.housing.gov.ie/dataset/13991f42-a3ff-4f97-8be6-bb48ca6cd225/resource/c00b9111-b872-4857-a0fc-95a95afcc0c8/download/homelessness-report-october-2023.csv\")\n",
    "homelessness_sep_2023 = pd.read_csv(\"https://opendata.housing.gov.ie/dataset/e1abeff6-eb5f-4c5d-bc70-f480551e525d/resource/7fe1b716-608f-4017-9cb3-7c021088e305/download/homelessness-report-september-2023.csv\")\n",
    "homelessness_aug_2023 = pd.read_csv(\"https://opendata.housing.gov.ie/dataset/ff8ad077-c50b-4b9e-87f8-94c2932d20dd/resource/c8856026-9aad-4dfe-97b7-b2dc51112c82/download/homelessness-report-august-2023.csv\")\n",
    "homelessness_jul_2023 = pd.read_csv(\"https://opendata.housing.gov.ie/dataset/06b69ba1-4864-4ba3-86ae-b8620c63b02c/resource/3ed19306-604f-4af4-8135-97100142602b/download/homelessness-report-july-2023.csv\")\n",
    "homelessness_jun_2023 = pd.read_csv(\"https://opendata.housing.gov.ie/dataset/b0c5f2cb-62e1-4636-8e24-168e15c4cdbb/resource/c1babe56-9d77-4ecc-8fad-b60372601686/download/homelessness-report-june-2023.csv\")\n",
    "homelessness_may_2023 = pd.read_csv(\"https://opendata.housing.gov.ie/dataset/4a67d150-d279-423e-89c8-872e8f23c2ac/resource/5e8c21d9-197f-4cba-9eb8-05cef7760a43/download/homelessness-report-may-2023.csv\") #problems table\n",
    "homelessness_apr_2023 = pd.read_csv(\"https://opendata.housing.gov.ie/dataset/f4e8a00a-41ec-4614-adad-18be7777ddaf/resource/5a2dfe7c-6706-4cb9-9d8c-5d810a8e6e0b/download/homelessness-report-april-2023.csv\") #problems table\n",
    "homelessness_mar_2023 = pd.read_csv(\"https://opendata.housing.gov.ie/dataset/0ddbd2e1-597a-4373-869e-a9a22c44e7d6/resource/c7af788f-6aec-4d69-9188-fd7a6cb1139b/download/homelessness-report-march-2023.csv\") #problems table\n",
    "homelessness_feb_2023 = pd.read_csv(\"https://opendata.housing.gov.ie/dataset/16b4f235-403d-4d7a-8c83-3ae3b25ff276/resource/498fb653-3493-43d8-bd79-74b1d5e4d9b0/download/homelessness-report-february-2023.csv\")\n",
    "homelessness_jan_2023 = pd.read_csv(\"https://opendata.housing.gov.ie/dataset/28045f5f-c36a-44dc-8073-dceda19de92b/resource/7f71a732-4ae2-4d0a-8fd0-97f9480fb19e/download/homelessness-report-january-2023.csv\")"
   ]
  },
  {
   "cell_type": "code",
   "execution_count": 93,
   "metadata": {},
   "outputs": [],
   "source": [
    "specific_date_dec_2023 = pd.Timestamp('2023-12')\n",
    "formatted_date_dec_2023 = specific_date_dec_2023.strftime('%Y-%m')\n",
    "specific_date_nov_2023 = pd.Timestamp('2023-11')\n",
    "formatted_date_nov_2023 = specific_date_nov_2023.strftime('%Y-%m')\n",
    "specific_date_oct_2023 = pd.Timestamp('2023-10')\n",
    "formatted_date_oct_2023 = specific_date_oct_2023.strftime('%Y-%m')\n",
    "specific_date_sep_2023 = pd.Timestamp('2023-09')\n",
    "formatted_date_sep_2023 = specific_date_sep_2023.strftime('%Y-%m')\n",
    "specific_date_aug_2023 = pd.Timestamp('2023-08')\n",
    "formatted_date_aug_2023 = specific_date_aug_2023.strftime('%Y-%m')\n",
    "specific_date_jul_2023 = pd.Timestamp('2023-07')\n",
    "formatted_date_jul_2023 = specific_date_jul_2023.strftime('%Y-%m')\n",
    "specific_date_jun_2023 = pd.Timestamp('2023-06')\n",
    "formatted_date_jun_2023 = specific_date_jun_2023.strftime('%Y-%m')\n",
    "specific_date_may_2023 = pd.Timestamp('2023-05')\n",
    "formatted_date_may_2023 = specific_date_may_2023.strftime('%Y-%m')\n",
    "specific_date_apr_2023 = pd.Timestamp('2023-04')\n",
    "formatted_date_apr_2023 = specific_date_apr_2023.strftime('%Y-%m')\n",
    "specific_date_mar_2023 = pd.Timestamp('2023-03')\n",
    "formatted_date_mar_2023 = specific_date_mar_2023.strftime('%Y-%m')\n",
    "specific_date_feb_2023 = pd.Timestamp('2023-02')\n",
    "formatted_date_feb_2023 = specific_date_feb_2023.strftime('%Y-%m')\n",
    "specific_date_jan_2023 = pd.Timestamp('2023-01')\n",
    "formatted_date_jan_2023 = specific_date_jan_2023.strftime('%Y-%m')"
   ]
  },
  {
   "cell_type": "code",
   "execution_count": 95,
   "metadata": {},
   "outputs": [],
   "source": [
    "homelessness_dec_2023['Date'] = formatted_date_dec_2023\n",
    "homelessness_nov_2023['Date'] = formatted_date_nov_2023\n",
    "homelessness_oct_2023['Date'] = formatted_date_oct_2023\n",
    "homelessness_sep_2023['Date'] = formatted_date_sep_2023\n",
    "homelessness_aug_2023['Date'] = formatted_date_aug_2023\n",
    "homelessness_jul_2023['Date'] = formatted_date_jul_2023\n",
    "homelessness_jun_2023['Date'] = formatted_date_jun_2023\n",
    "homelessness_may_2023['Date'] = formatted_date_may_2023\n",
    "homelessness_apr_2023['Date'] = formatted_date_apr_2023\n",
    "homelessness_mar_2023['Date'] = formatted_date_mar_2023\n",
    "homelessness_feb_2023['Date'] = formatted_date_feb_2023\n",
    "homelessness_jan_2023['Date'] = formatted_date_jan_2023"
   ]
  },
  {
   "cell_type": "code",
   "execution_count": 98,
   "metadata": {},
   "outputs": [],
   "source": [
    "combined_2024 = pd.concat([homelessness_oct_2024,homelessness_sep_2024, homelessness_aug_2024,homelessness_jul_2024,homelessness_jun_2024,homelessness_may_2024,homelessness_apr_2024,homelessness_mar_2024,homelessness_feb_2024,homelessness_jan_2024], ignore_index=True)"
   ]
  },
  {
   "cell_type": "code",
   "execution_count": 74,
   "metadata": {},
   "outputs": [],
   "source": [
    "combined_2023 = pd.concat([homelessness_dec_2023,homelessness_nov_2023, homelessness_oct_2023,homelessness_sep_2023, homelessness_aug_2023,homelessness_jul_2023,homelessness_jun_2023,homelessness_feb_2023,homelessness_jan_2023], ignore_index=True)"
   ]
  },
  {
   "cell_type": "code",
   "execution_count": 68,
   "metadata": {},
   "outputs": [],
   "source": [
    "test= pd.concat([homelessness_dec_2023,homelessness_nov_2023, homelessness_oct_2023,homelessness_sep_2023, homelessness_aug_2023,homelessness_jul_2023,homelessness_jun_2023,homelessness_may_2023], ignore_index=True)"
   ]
  },
  {
   "cell_type": "code",
   "execution_count": 76,
   "metadata": {},
   "outputs": [],
   "source": [
    "total = pd.concat([combined_2024,combined_2023])"
   ]
  },
  {
   "cell_type": "code",
   "execution_count": 79,
   "metadata": {},
   "outputs": [
    {
     "data": {
      "text/html": [
       "<div>\n",
       "<style scoped>\n",
       "    .dataframe tbody tr th:only-of-type {\n",
       "        vertical-align: middle;\n",
       "    }\n",
       "\n",
       "    .dataframe tbody tr th {\n",
       "        vertical-align: top;\n",
       "    }\n",
       "\n",
       "    .dataframe thead th {\n",
       "        text-align: right;\n",
       "    }\n",
       "</style>\n",
       "<table border=\"1\" class=\"dataframe\">\n",
       "  <thead>\n",
       "    <tr style=\"text-align: right;\">\n",
       "      <th></th>\n",
       "      <th>Region</th>\n",
       "      <th>Total Adults</th>\n",
       "      <th>Male Adults</th>\n",
       "      <th>Female Adults</th>\n",
       "      <th>Adults Aged 18-24</th>\n",
       "      <th>Adults Aged 25-44</th>\n",
       "      <th>Adults Aged 45-64</th>\n",
       "      <th>Adults Aged 65+</th>\n",
       "      <th>Number of people who accessed Private Emergency Accommodation</th>\n",
       "      <th>Number of people who accessed Supported Temporary Accommodation</th>\n",
       "      <th>Number of people who accessed Temporary Emergency Accommodation</th>\n",
       "      <th>Number of people who accessed Other Accommodation</th>\n",
       "      <th>Number of people with citizenship Irish</th>\n",
       "      <th>Number of people with citizenship EEA/Uk</th>\n",
       "      <th>Number of people with citizenship Non-EEA</th>\n",
       "      <th>Number of Families</th>\n",
       "      <th>Number of Adults in Families</th>\n",
       "      <th>Number of Single-Parent families</th>\n",
       "      <th>Number of Dependants in Families</th>\n",
       "      <th>Date</th>\n",
       "    </tr>\n",
       "  </thead>\n",
       "  <tbody>\n",
       "    <tr>\n",
       "      <th>0</th>\n",
       "      <td>Dublin</td>\n",
       "      <td>7388</td>\n",
       "      <td>4582</td>\n",
       "      <td>2806</td>\n",
       "      <td>1325</td>\n",
       "      <td>3951</td>\n",
       "      <td>1992</td>\n",
       "      <td>120</td>\n",
       "      <td>5030</td>\n",
       "      <td>2318</td>\n",
       "      <td>40</td>\n",
       "      <td>0</td>\n",
       "      <td>3332</td>\n",
       "      <td>1808</td>\n",
       "      <td>2248</td>\n",
       "      <td>1512</td>\n",
       "      <td>2632</td>\n",
       "      <td>824</td>\n",
       "      <td>3448</td>\n",
       "      <td>2024-10</td>\n",
       "    </tr>\n",
       "    <tr>\n",
       "      <th>1</th>\n",
       "      <td>Mid-East</td>\n",
       "      <td>511</td>\n",
       "      <td>291</td>\n",
       "      <td>220</td>\n",
       "      <td>87</td>\n",
       "      <td>226</td>\n",
       "      <td>169</td>\n",
       "      <td>29</td>\n",
       "      <td>355</td>\n",
       "      <td>156</td>\n",
       "      <td>1</td>\n",
       "      <td>0</td>\n",
       "      <td>343</td>\n",
       "      <td>97</td>\n",
       "      <td>71</td>\n",
       "      <td>118</td>\n",
       "      <td>192</td>\n",
       "      <td>73</td>\n",
       "      <td>187</td>\n",
       "      <td>2024-10</td>\n",
       "    </tr>\n",
       "    <tr>\n",
       "      <th>2</th>\n",
       "      <td>Midlands</td>\n",
       "      <td>173</td>\n",
       "      <td>96</td>\n",
       "      <td>77</td>\n",
       "      <td>24</td>\n",
       "      <td>89</td>\n",
       "      <td>56</td>\n",
       "      <td>4</td>\n",
       "      <td>133</td>\n",
       "      <td>0</td>\n",
       "      <td>40</td>\n",
       "      <td>3</td>\n",
       "      <td>131</td>\n",
       "      <td>30</td>\n",
       "      <td>12</td>\n",
       "      <td>41</td>\n",
       "      <td>47</td>\n",
       "      <td>35</td>\n",
       "      <td>67</td>\n",
       "      <td>2024-10</td>\n",
       "    </tr>\n",
       "    <tr>\n",
       "      <th>3</th>\n",
       "      <td>Mid-West</td>\n",
       "      <td>533</td>\n",
       "      <td>292</td>\n",
       "      <td>241</td>\n",
       "      <td>92</td>\n",
       "      <td>274</td>\n",
       "      <td>156</td>\n",
       "      <td>11</td>\n",
       "      <td>245</td>\n",
       "      <td>275</td>\n",
       "      <td>21</td>\n",
       "      <td>0</td>\n",
       "      <td>422</td>\n",
       "      <td>45</td>\n",
       "      <td>66</td>\n",
       "      <td>121</td>\n",
       "      <td>182</td>\n",
       "      <td>73</td>\n",
       "      <td>210</td>\n",
       "      <td>2024-10</td>\n",
       "    </tr>\n",
       "    <tr>\n",
       "      <th>4</th>\n",
       "      <td>North-East</td>\n",
       "      <td>256</td>\n",
       "      <td>127</td>\n",
       "      <td>129</td>\n",
       "      <td>38</td>\n",
       "      <td>139</td>\n",
       "      <td>73</td>\n",
       "      <td>6</td>\n",
       "      <td>142</td>\n",
       "      <td>112</td>\n",
       "      <td>2</td>\n",
       "      <td>0</td>\n",
       "      <td>139</td>\n",
       "      <td>61</td>\n",
       "      <td>56</td>\n",
       "      <td>70</td>\n",
       "      <td>96</td>\n",
       "      <td>49</td>\n",
       "      <td>150</td>\n",
       "      <td>2024-10</td>\n",
       "    </tr>\n",
       "  </tbody>\n",
       "</table>\n",
       "</div>"
      ],
      "text/plain": [
       "       Region  Total Adults  Male Adults  Female Adults  Adults Aged 18-24  \\\n",
       "0      Dublin          7388         4582           2806               1325   \n",
       "1    Mid-East           511          291            220                 87   \n",
       "2    Midlands           173           96             77                 24   \n",
       "3    Mid-West           533          292            241                 92   \n",
       "4  North-East           256          127            129                 38   \n",
       "\n",
       "   Adults Aged 25-44  Adults Aged 45-64  Adults Aged 65+  \\\n",
       "0               3951               1992              120   \n",
       "1                226                169               29   \n",
       "2                 89                 56                4   \n",
       "3                274                156               11   \n",
       "4                139                 73                6   \n",
       "\n",
       "   Number of people who accessed Private Emergency Accommodation  \\\n",
       "0                                               5030               \n",
       "1                                                355               \n",
       "2                                                133               \n",
       "3                                                245               \n",
       "4                                                142               \n",
       "\n",
       "   Number of people who accessed Supported Temporary Accommodation  \\\n",
       "0                                               2318                 \n",
       "1                                                156                 \n",
       "2                                                  0                 \n",
       "3                                                275                 \n",
       "4                                                112                 \n",
       "\n",
       "   Number of people who accessed Temporary Emergency Accommodation  \\\n",
       "0                                                 40                 \n",
       "1                                                  1                 \n",
       "2                                                 40                 \n",
       "3                                                 21                 \n",
       "4                                                  2                 \n",
       "\n",
       "   Number of people who accessed Other Accommodation  \\\n",
       "0                                                  0   \n",
       "1                                                  0   \n",
       "2                                                  3   \n",
       "3                                                  0   \n",
       "4                                                  0   \n",
       "\n",
       "   Number of people with citizenship Irish  \\\n",
       "0                                     3332   \n",
       "1                                      343   \n",
       "2                                      131   \n",
       "3                                      422   \n",
       "4                                      139   \n",
       "\n",
       "   Number of people with citizenship EEA/Uk  \\\n",
       "0                                      1808   \n",
       "1                                        97   \n",
       "2                                        30   \n",
       "3                                        45   \n",
       "4                                        61   \n",
       "\n",
       "   Number of people with citizenship Non-EEA  Number of Families  \\\n",
       "0                                       2248                1512   \n",
       "1                                         71                 118   \n",
       "2                                         12                  41   \n",
       "3                                         66                 121   \n",
       "4                                         56                  70   \n",
       "\n",
       "   Number of Adults in Families  Number of Single-Parent families  \\\n",
       "0                          2632                               824   \n",
       "1                           192                                73   \n",
       "2                            47                                35   \n",
       "3                           182                                73   \n",
       "4                            96                                49   \n",
       "\n",
       "   Number of Dependants in Families     Date  \n",
       "0                              3448  2024-10  \n",
       "1                               187  2024-10  \n",
       "2                                67  2024-10  \n",
       "3                               210  2024-10  \n",
       "4                               150  2024-10  "
      ]
     },
     "execution_count": 79,
     "metadata": {},
     "output_type": "execute_result"
    }
   ],
   "source": [
    "total.head()"
   ]
  },
  {
   "cell_type": "code",
   "execution_count": 99,
   "metadata": {},
   "outputs": [
    {
     "name": "stdout",
     "output_type": "stream",
     "text": [
      "Table exported as CSV!\n"
     ]
    }
   ],
   "source": [
    "combined_2024.to_csv('C:/Users/ROB86/OneDrive/Desktop/total_data.csv', index=False)\n",
    "print(\"Table exported as CSV!\")"
   ]
  }
 ],
 "metadata": {
  "kernelspec": {
   "display_name": "base",
   "language": "python",
   "name": "python3"
  },
  "language_info": {
   "codemirror_mode": {
    "name": "ipython",
    "version": 3
   },
   "file_extension": ".py",
   "mimetype": "text/x-python",
   "name": "python",
   "nbconvert_exporter": "python",
   "pygments_lexer": "ipython3",
   "version": "3.11.5"
  }
 },
 "nbformat": 4,
 "nbformat_minor": 2
}
